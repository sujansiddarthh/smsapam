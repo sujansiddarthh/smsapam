{
 "cells": [
  {
   "cell_type": "code",
   "execution_count": 1,
   "id": "cc6fd766",
   "metadata": {},
   "outputs": [
    {
     "name": "stdout",
     "output_type": "stream",
     "text": [
      "Requirement already satisfied: joblib in c:\\users\\srkreddy\\anaconda4\\lib\\site-packages (1.0.1)\n",
      "Note: you may need to restart the kernel to use updated packages.\n"
     ]
    }
   ],
   "source": [
    "pip install joblib"
   ]
  },
  {
   "cell_type": "code",
   "execution_count": 15,
   "id": "f5ce50ac",
   "metadata": {},
   "outputs": [
    {
     "name": "stdout",
     "output_type": "stream",
     "text": [
      "  label                                            message Unnamed: 2  \\\n",
      "0   ham  Go until jurong point, crazy.. Available only ...        NaN   \n",
      "1   ham                      Ok lar... Joking wif u oni...        NaN   \n",
      "2  spam  Free entry in 2 a wkly comp to win FA Cup fina...        NaN   \n",
      "3   ham  U dun say so early hor... U c already then say...        NaN   \n",
      "4   ham  Nah I don't think he goes to usf, he lives aro...        NaN   \n",
      "\n",
      "  Unnamed: 3 Unnamed: 4  \n",
      "0        NaN        NaN  \n",
      "1        NaN        NaN  \n",
      "2        NaN        NaN  \n",
      "3        NaN        NaN  \n",
      "4        NaN        NaN  \n",
      "  label                                            message Unnamed: 2  \\\n",
      "0   ham  Go until jurong point, crazy.. Available only ...        NaN   \n",
      "1   ham                      Ok lar... Joking wif u oni...        NaN   \n",
      "2  spam  Free entry in 2 a wkly comp to win FA Cup fina...        NaN   \n",
      "3   ham  U dun say so early hor... U c already then say...        NaN   \n",
      "4   ham  Nah I don't think he goes to usf, he lives aro...        NaN   \n",
      "\n",
      "  Unnamed: 3 Unnamed: 4  \n",
      "0        NaN        NaN  \n",
      "1        NaN        NaN  \n",
      "2        NaN        NaN  \n",
      "3        NaN        NaN  \n",
      "4        NaN        NaN  \n"
     ]
    }
   ],
   "source": [
    "import pandas as pd\n",
    "from sklearn.model_selection import train_test_split\n",
    "from sklearn.feature_extraction.text import CountVectorizer\n",
    "from sklearn.naive_bayes import MultinomialNB\n",
    "from sklearn.metrics import accuracy_score, classification_report\n",
    "from nltk.corpus import stopwords\n",
    "from nltk.tokenize import word_tokenize\n",
    "import joblib\n",
    "import pickle\n",
    "from tkinter import *\n",
    "from tkinter import ttk\n",
    "\n",
    "import os\n",
    "\n",
    "# Get the current working directory\n",
    "current_dir = os.getcwd()\n",
    "\n",
    "# Specify the file path relative to the current working directory\n",
    "file_path = os.path.join(current_dir, 'spam_classifier_model.pkl')\n",
    "\n",
    "\n",
    "def train_model():\n",
    "    df = pd.read_csv('spam.csv')\n",
    "    print(df.head())\n",
    "\n",
    "    # Split the dataset into training and testing sets\n",
    "    X_train, X_test, y_train, y_test = train_test_split(df['message'], df['label'], test_size=0.2, random_state=42)\n",
    "\n",
    "    # Tokenize and remove stopwords\n",
    "    stop_words = set(stopwords.words('english'))\n",
    "    vectorizer = CountVectorizer(stop_words=stop_words)\n",
    "    X_train = vectorizer.fit_transform(X_train)\n",
    "    X_test = vectorizer.transform(X_test)\n",
    "\n",
    "    # Train a Naive Bayes classifier\n",
    "    clf = MultinomialNB()\n",
    "    clf.fit(X_train, y_train)\n",
    "\n",
    "    # Save the trained model\n",
    "    joblib.dump((clf, vectorizer), 'spam_classifier_model.pkl')\n",
    "\n",
    "def classify_sms():\n",
    "    message = entry.get()\n",
    "    if not message:\n",
    "        result_label.config(text='Please enter an SMS.')\n",
    "        return\n",
    "\n",
    "    # Load the trained model\n",
    "    clf, vectorizer = joblib.load('spam_classifier_model.pkl')\n",
    "\n",
    "    message_vectorized = vectorizer.transform([message])\n",
    "    prediction = clf.predict(message_vectorized)\n",
    "    result_label.config(text=f'Prediction: {prediction[0]}')\n",
    "\n",
    "# GUI setup\n",
    "root = Tk()\n",
    "root.title('SMS Classifier')\n",
    "\n",
    "style = ttk.Style()\n",
    "style.configure('TButton', font=('calibri', 10, 'bold'), borderwidth='4')\n",
    "\n",
    "train_button = ttk.Button(root, text='Train Model', command=train_model)\n",
    "train_button.grid(row=0, column=0, pady=10)\n",
    "\n",
    "label = ttk.Label(root, text='Enter SMS:')\n",
    "label.grid(row=1, column=0, pady=10)\n",
    "\n",
    "entry = ttk.Entry(root, width=50)\n",
    "entry.grid(row=1, column=1, pady=10)\n",
    "\n",
    "classify_button = ttk.Button(root, text='Classify', command=classify_sms)\n",
    "classify_button.grid(row=1, column=2, pady=10)\n",
    "\n",
    "result_label = ttk.Label(root, text='')\n",
    "result_label.grid(row=2, column=1, pady=10)\n",
    "\n",
    "root.mainloop()\n",
    "\n"
   ]
  },
  {
   "cell_type": "code",
   "execution_count": null,
   "id": "ae8df372",
   "metadata": {},
   "outputs": [],
   "source": []
  }
 ],
 "metadata": {
  "kernelspec": {
   "display_name": "Python 3",
   "language": "python",
   "name": "python3"
  },
  "language_info": {
   "codemirror_mode": {
    "name": "ipython",
    "version": 3
   },
   "file_extension": ".py",
   "mimetype": "text/x-python",
   "name": "python",
   "nbconvert_exporter": "python",
   "pygments_lexer": "ipython3",
   "version": "3.8.8"
  }
 },
 "nbformat": 4,
 "nbformat_minor": 5
}
